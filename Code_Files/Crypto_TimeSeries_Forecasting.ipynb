{
 "cells": [
  {
   "cell_type": "code",
   "execution_count": 1,
   "id": "05b07166-cf31-4797-b0b6-5084703f535f",
   "metadata": {},
   "outputs": [],
   "source": [
    "import pandas as pd\n",
    "import numpy as np\n",
    "import yfinance as yf\n",
    "import datetime\n",
    "from datetime import date, timedelta\n",
    "%matplotlib inline\n",
    "\n",
    "today = date.today()"
   ]
  },
  {
   "cell_type": "markdown",
   "id": "b4b09874-c3b8-4718-b511-1f7b5fc9c34d",
   "metadata": {
    "tags": []
   },
   "source": [
    "# Crypto Price Forecasting: Read Historical Crypto Day Close Price Data\n",
    "In this section, we will load historical Crypto exchange closing price data and apply time series analysis and modeling to determine whether there is any predictable behavior."
   ]
  },
  {
   "cell_type": "code",
   "execution_count": 2,
   "id": "843e21f0-9fb1-49e5-951a-37903ef52f01",
   "metadata": {},
   "outputs": [
    {
     "data": {
      "text/html": [
       "<div>\n",
       "<style scoped>\n",
       "    .dataframe tbody tr th:only-of-type {\n",
       "        vertical-align: middle;\n",
       "    }\n",
       "\n",
       "    .dataframe tbody tr th {\n",
       "        vertical-align: top;\n",
       "    }\n",
       "\n",
       "    .dataframe thead th {\n",
       "        text-align: right;\n",
       "    }\n",
       "</style>\n",
       "<table border=\"1\" class=\"dataframe\">\n",
       "  <thead>\n",
       "    <tr style=\"text-align: right;\">\n",
       "      <th></th>\n",
       "      <th>Date</th>\n",
       "      <th>Open</th>\n",
       "      <th>High</th>\n",
       "      <th>Low</th>\n",
       "      <th>Close</th>\n",
       "      <th>Adj Close</th>\n",
       "      <th>Volume</th>\n",
       "    </tr>\n",
       "  </thead>\n",
       "  <tbody>\n",
       "    <tr>\n",
       "      <th>721</th>\n",
       "      <td>2022-03-27</td>\n",
       "      <td>0.832815</td>\n",
       "      <td>0.857376</td>\n",
       "      <td>0.830339</td>\n",
       "      <td>0.857343</td>\n",
       "      <td>0.857343</td>\n",
       "      <td>1505124770</td>\n",
       "    </tr>\n",
       "    <tr>\n",
       "      <th>722</th>\n",
       "      <td>2022-03-28</td>\n",
       "      <td>0.857408</td>\n",
       "      <td>0.908086</td>\n",
       "      <td>0.855211</td>\n",
       "      <td>0.863304</td>\n",
       "      <td>0.863304</td>\n",
       "      <td>3205464277</td>\n",
       "    </tr>\n",
       "    <tr>\n",
       "      <th>723</th>\n",
       "      <td>2022-03-29</td>\n",
       "      <td>0.863089</td>\n",
       "      <td>0.884441</td>\n",
       "      <td>0.848861</td>\n",
       "      <td>0.858000</td>\n",
       "      <td>0.858000</td>\n",
       "      <td>2120020042</td>\n",
       "    </tr>\n",
       "    <tr>\n",
       "      <th>724</th>\n",
       "      <td>2022-03-30</td>\n",
       "      <td>0.857942</td>\n",
       "      <td>0.871279</td>\n",
       "      <td>0.849425</td>\n",
       "      <td>0.860814</td>\n",
       "      <td>0.860814</td>\n",
       "      <td>1832671641</td>\n",
       "    </tr>\n",
       "    <tr>\n",
       "      <th>725</th>\n",
       "      <td>2022-03-31</td>\n",
       "      <td>0.860880</td>\n",
       "      <td>0.870866</td>\n",
       "      <td>0.803881</td>\n",
       "      <td>0.814564</td>\n",
       "      <td>0.814564</td>\n",
       "      <td>2611691934</td>\n",
       "    </tr>\n",
       "    <tr>\n",
       "      <th>726</th>\n",
       "      <td>2022-04-01</td>\n",
       "      <td>0.814709</td>\n",
       "      <td>0.833678</td>\n",
       "      <td>0.810256</td>\n",
       "      <td>0.827740</td>\n",
       "      <td>0.827740</td>\n",
       "      <td>2091887103</td>\n",
       "    </tr>\n",
       "    <tr>\n",
       "      <th>727</th>\n",
       "      <td>2022-04-02</td>\n",
       "      <td>0.827735</td>\n",
       "      <td>0.848600</td>\n",
       "      <td>0.824828</td>\n",
       "      <td>0.824919</td>\n",
       "      <td>0.824919</td>\n",
       "      <td>1624227101</td>\n",
       "    </tr>\n",
       "    <tr>\n",
       "      <th>728</th>\n",
       "      <td>2022-04-03</td>\n",
       "      <td>0.824891</td>\n",
       "      <td>0.850154</td>\n",
       "      <td>0.817265</td>\n",
       "      <td>0.842950</td>\n",
       "      <td>0.842950</td>\n",
       "      <td>1348476817</td>\n",
       "    </tr>\n",
       "    <tr>\n",
       "      <th>729</th>\n",
       "      <td>2022-04-04</td>\n",
       "      <td>0.842923</td>\n",
       "      <td>0.842952</td>\n",
       "      <td>0.810890</td>\n",
       "      <td>0.827251</td>\n",
       "      <td>0.827251</td>\n",
       "      <td>1876069127</td>\n",
       "    </tr>\n",
       "    <tr>\n",
       "      <th>730</th>\n",
       "      <td>2022-04-05</td>\n",
       "      <td>0.827935</td>\n",
       "      <td>0.833054</td>\n",
       "      <td>0.819709</td>\n",
       "      <td>0.823951</td>\n",
       "      <td>0.823951</td>\n",
       "      <td>1604674560</td>\n",
       "    </tr>\n",
       "  </tbody>\n",
       "</table>\n",
       "</div>"
      ],
      "text/plain": [
       "          Date      Open      High       Low     Close  Adj Close      Volume\n",
       "721 2022-03-27  0.832815  0.857376  0.830339  0.857343   0.857343  1505124770\n",
       "722 2022-03-28  0.857408  0.908086  0.855211  0.863304   0.863304  3205464277\n",
       "723 2022-03-29  0.863089  0.884441  0.848861  0.858000   0.858000  2120020042\n",
       "724 2022-03-30  0.857942  0.871279  0.849425  0.860814   0.860814  1832671641\n",
       "725 2022-03-31  0.860880  0.870866  0.803881  0.814564   0.814564  2611691934\n",
       "726 2022-04-01  0.814709  0.833678  0.810256  0.827740   0.827740  2091887103\n",
       "727 2022-04-02  0.827735  0.848600  0.824828  0.824919   0.824919  1624227101\n",
       "728 2022-04-03  0.824891  0.850154  0.817265  0.842950   0.842950  1348476817\n",
       "729 2022-04-04  0.842923  0.842952  0.810890  0.827251   0.827251  1876069127\n",
       "730 2022-04-05  0.827935  0.833054  0.819709  0.823951   0.823951  1604674560"
      ]
     },
     "execution_count": 2,
     "metadata": {},
     "output_type": "execute_result"
    }
   ],
   "source": [
    "d1 = today.strftime(\"%Y-%m-%d\")\n",
    "end_date = d1\n",
    "d2 = date.today() - timedelta(days=730)\n",
    "d2 = d2.strftime(\"%Y-%m-%d\")\n",
    "start_date = d2\n",
    "\n",
    "data = yf.download('XRP-USD', \n",
    "                      start=start_date, \n",
    "                      end=end_date, \n",
    "                      progress=False)\n",
    "data[\"Date\"] = data.index\n",
    "data = data[[\"Date\", \"Open\", \"High\", \"Low\", \"Close\", \"Adj Close\", \"Volume\"]]\n",
    "data.reset_index(drop=True, inplace=True)\n",
    "#print(data.head())\n",
    "data.tail(10)\n"
   ]
  },
  {
   "cell_type": "code",
   "execution_count": 3,
   "id": "956f40c9-d19b-4786-9556-b4bb2a05d9c2",
   "metadata": {},
   "outputs": [
    {
     "data": {
      "text/html": [
       "<div>\n",
       "<style scoped>\n",
       "    .dataframe tbody tr th:only-of-type {\n",
       "        vertical-align: middle;\n",
       "    }\n",
       "\n",
       "    .dataframe tbody tr th {\n",
       "        vertical-align: top;\n",
       "    }\n",
       "\n",
       "    .dataframe thead th {\n",
       "        text-align: right;\n",
       "    }\n",
       "</style>\n",
       "<table border=\"1\" class=\"dataframe\">\n",
       "  <thead>\n",
       "    <tr style=\"text-align: right;\">\n",
       "      <th></th>\n",
       "      <th>Date</th>\n",
       "      <th>Open</th>\n",
       "      <th>High</th>\n",
       "      <th>Low</th>\n",
       "      <th>Close</th>\n",
       "      <th>Adj Close</th>\n",
       "      <th>Volume</th>\n",
       "    </tr>\n",
       "  </thead>\n",
       "  <tbody>\n",
       "    <tr>\n",
       "      <th>726</th>\n",
       "      <td>2022-04-01</td>\n",
       "      <td>0.814709</td>\n",
       "      <td>0.833678</td>\n",
       "      <td>0.810256</td>\n",
       "      <td>0.827740</td>\n",
       "      <td>0.827740</td>\n",
       "      <td>2091887103</td>\n",
       "    </tr>\n",
       "    <tr>\n",
       "      <th>727</th>\n",
       "      <td>2022-04-02</td>\n",
       "      <td>0.827735</td>\n",
       "      <td>0.848600</td>\n",
       "      <td>0.824828</td>\n",
       "      <td>0.824919</td>\n",
       "      <td>0.824919</td>\n",
       "      <td>1624227101</td>\n",
       "    </tr>\n",
       "    <tr>\n",
       "      <th>728</th>\n",
       "      <td>2022-04-03</td>\n",
       "      <td>0.824891</td>\n",
       "      <td>0.850154</td>\n",
       "      <td>0.817265</td>\n",
       "      <td>0.842950</td>\n",
       "      <td>0.842950</td>\n",
       "      <td>1348476817</td>\n",
       "    </tr>\n",
       "    <tr>\n",
       "      <th>729</th>\n",
       "      <td>2022-04-04</td>\n",
       "      <td>0.842923</td>\n",
       "      <td>0.842952</td>\n",
       "      <td>0.810890</td>\n",
       "      <td>0.827251</td>\n",
       "      <td>0.827251</td>\n",
       "      <td>1876069127</td>\n",
       "    </tr>\n",
       "    <tr>\n",
       "      <th>730</th>\n",
       "      <td>2022-04-05</td>\n",
       "      <td>0.827935</td>\n",
       "      <td>0.833054</td>\n",
       "      <td>0.819709</td>\n",
       "      <td>0.823951</td>\n",
       "      <td>0.823951</td>\n",
       "      <td>1604674560</td>\n",
       "    </tr>\n",
       "  </tbody>\n",
       "</table>\n",
       "</div>"
      ],
      "text/plain": [
       "          Date      Open      High       Low     Close  Adj Close      Volume\n",
       "726 2022-04-01  0.814709  0.833678  0.810256  0.827740   0.827740  2091887103\n",
       "727 2022-04-02  0.827735  0.848600  0.824828  0.824919   0.824919  1624227101\n",
       "728 2022-04-03  0.824891  0.850154  0.817265  0.842950   0.842950  1348476817\n",
       "729 2022-04-04  0.842923  0.842952  0.810890  0.827251   0.827251  1876069127\n",
       "730 2022-04-05  0.827935  0.833054  0.819709  0.823951   0.823951  1604674560"
      ]
     },
     "execution_count": 3,
     "metadata": {},
     "output_type": "execute_result"
    }
   ],
   "source": [
    "# Trim the dataset to begin on September 01 2020, or about 18 months of data\n",
    "data = data.loc[\"2020-09-01\":, :]\n",
    "data.tail()"
   ]
  },
  {
   "cell_type": "code",
   "execution_count": 4,
   "id": "8668c68b-4f96-44e1-8d76-03e87ca234ac",
   "metadata": {},
   "outputs": [
    {
     "data": {
      "text/plain": [
       "<AxesSubplot:title={'center':'Crypto Close Prices'}>"
      ]
     },
     "execution_count": 4,
     "metadata": {},
     "output_type": "execute_result"
    },
    {
     "data": {
      "image/png": "[encoded data removed]",
      "text/plain": [
       "<Figure size 864x504 with 1 Axes>"
      ]
     },
     "metadata": {
      "needs_background": "light"
     },
     "output_type": "display_data"
    }
   ],
   "source": [
    "# Plot just the \"Settle\" column from the dataframe:\n",
    "data.Close.plot(title='Crypto Close Prices', figsize=(12,7))"
   ]
  },
  {
   "cell_type": "markdown",
   "id": "299d69b2-e469-4f2e-b4b2-6c16cc95c4cf",
   "metadata": {},
   "source": [
    "# Forecasting the Close Price using an ARIMA Model\n",
    " 1. Using the *raw* Crypto **Close Price**, estimate an ARIMA model.\n",
    "     1. Set P=5, D=1, and Q=1 in the model (e.g., ARIMA(df, order=(5,1,1))\n",
    "     2. P= # of Auto-Regressive Lags, D= # of Differences (this is usually =1), Q= # of Moving Average Lags\n",
    " 2. We will analize the output the ARIMA summary table and take note of the p-values of the lags. Based on the p-values, we will determine if the model is a good fit (p < 0.05)?\n",
    " 3. Construct a 5 day forecast for the Close Price.  What is the closing price forecast in the near term?"
   ]
  },
  {
   "cell_type": "code",
   "execution_count": null,
   "id": "8a35f1a2-79ad-431f-b5d2-2989d4298d05",
   "metadata": {},
   "outputs": [],
   "source": [
    "import statsmodels.api as sm\n",
    "from statsmodels.tsa.arima_model import ARIMA\n",
    "\n",
    "# Estimate an ARIMA Model:\n",
    "# ARIMA(df, order=(p, d, q))\n",
    "arima_model = ARIMA(data['Close'], order=(5, 1, 1))"
   ]
  },
  {
   "cell_type": "code",
   "execution_count": null,
   "id": "1234177f-70b9-494b-b676-8acd5bcb961f",
   "metadata": {},
   "outputs": [],
   "source": [
    "# Fit the model\n",
    "arima_results = arima_model.fit()"
   ]
  },
  {
   "cell_type": "code",
   "execution_count": 7,
   "id": "56f1ceaa-e069-4294-9bdd-845618230105",
   "metadata": {},
   "outputs": [
    {
     "data": {
      "text/html": [
       "<table class=\"simpletable\">\n",
       "<caption>ARIMA Model Results</caption>\n",
       "<tr>\n",
       "  <th>Dep. Variable:</th>      <td>D.Close</td>     <th>  No. Observations:  </th>    <td>527</td>   \n",
       "</tr>\n",
       "<tr>\n",
       "  <th>Model:</th>          <td>ARIMA(5, 1, 1)</td>  <th>  Log Likelihood     </th>  <td>695.103</td> \n",
       "</tr>\n",
       "<tr>\n",
       "  <th>Method:</th>             <td>css-mle</td>     <th>  S.D. of innovations</th>   <td>0.065</td>  \n",
       "</tr>\n",
       "<tr>\n",
       "  <th>Date:</th>          <td>Tue, 05 Apr 2022</td> <th>  AIC                </th> <td>-1374.206</td>\n",
       "</tr>\n",
       "<tr>\n",
       "  <th>Time:</th>              <td>12:13:13</td>     <th>  BIC                </th> <td>-1340.069</td>\n",
       "</tr>\n",
       "<tr>\n",
       "  <th>Sample:</th>                <td>1</td>        <th>  HQIC               </th> <td>-1360.841</td>\n",
       "</tr>\n",
       "<tr>\n",
       "  <th></th>                       <td> </td>        <th>                     </th>     <td> </td>    \n",
       "</tr>\n",
       "</table>\n",
       "<table class=\"simpletable\">\n",
       "<tr>\n",
       "        <td></td>           <th>coef</th>     <th>std err</th>      <th>z</th>      <th>P>|z|</th>  <th>[0.025</th>    <th>0.975]</th>  \n",
       "</tr>\n",
       "<tr>\n",
       "  <th>const</th>         <td>    0.0011</td> <td>    0.003</td> <td>    0.398</td> <td> 0.691</td> <td>   -0.004</td> <td>    0.006</td>\n",
       "</tr>\n",
       "<tr>\n",
       "  <th>ar.L1.D.Close</th> <td>    0.2345</td> <td>    0.814</td> <td>    0.288</td> <td> 0.773</td> <td>   -1.361</td> <td>    1.830</td>\n",
       "</tr>\n",
       "<tr>\n",
       "  <th>ar.L2.D.Close</th> <td>    0.0203</td> <td>    0.066</td> <td>    0.306</td> <td> 0.760</td> <td>   -0.110</td> <td>    0.150</td>\n",
       "</tr>\n",
       "<tr>\n",
       "  <th>ar.L3.D.Close</th> <td>    0.0190</td> <td>    0.044</td> <td>    0.427</td> <td> 0.669</td> <td>   -0.068</td> <td>    0.106</td>\n",
       "</tr>\n",
       "<tr>\n",
       "  <th>ar.L4.D.Close</th> <td>    0.0554</td> <td>    0.047</td> <td>    1.179</td> <td> 0.238</td> <td>   -0.037</td> <td>    0.147</td>\n",
       "</tr>\n",
       "<tr>\n",
       "  <th>ar.L5.D.Close</th> <td>   -0.0600</td> <td>    0.060</td> <td>   -1.008</td> <td> 0.313</td> <td>   -0.177</td> <td>    0.057</td>\n",
       "</tr>\n",
       "<tr>\n",
       "  <th>ma.L1.D.Close</th> <td>   -0.2931</td> <td>    0.815</td> <td>   -0.360</td> <td> 0.719</td> <td>   -1.891</td> <td>    1.304</td>\n",
       "</tr>\n",
       "</table>\n",
       "<table class=\"simpletable\">\n",
       "<caption>Roots</caption>\n",
       "<tr>\n",
       "    <td></td>   <th>            Real</th>  <th>         Imaginary</th> <th>         Modulus</th>  <th>        Frequency</th>\n",
       "</tr>\n",
       "<tr>\n",
       "  <th>AR.1</th> <td>          -1.7349</td> <td>          -0.0000j</td> <td>           1.7349</td> <td>          -0.5000</td>\n",
       "</tr>\n",
       "<tr>\n",
       "  <th>AR.2</th> <td>          -0.2940</td> <td>          -1.7018j</td> <td>           1.7270</td> <td>          -0.2772</td>\n",
       "</tr>\n",
       "<tr>\n",
       "  <th>AR.3</th> <td>          -0.2940</td> <td>          +1.7018j</td> <td>           1.7270</td> <td>           0.2772</td>\n",
       "</tr>\n",
       "<tr>\n",
       "  <th>AR.4</th> <td>           1.6228</td> <td>          -0.7657j</td> <td>           1.7943</td> <td>          -0.0702</td>\n",
       "</tr>\n",
       "<tr>\n",
       "  <th>AR.5</th> <td>           1.6228</td> <td>          +0.7657j</td> <td>           1.7943</td> <td>           0.0702</td>\n",
       "</tr>\n",
       "<tr>\n",
       "  <th>MA.1</th> <td>           3.4122</td> <td>          +0.0000j</td> <td>           3.4122</td> <td>           0.0000</td>\n",
       "</tr>\n",
       "</table>"
      ],
      "text/plain": [
       "<class 'statsmodels.iolib.summary.Summary'>\n",
       "\"\"\"\n",
       "                             ARIMA Model Results                              \n",
       "==============================================================================\n",
       "Dep. Variable:                D.Close   No. Observations:                  527\n",
       "Model:                 ARIMA(5, 1, 1)   Log Likelihood                 695.103\n",
       "Method:                       css-mle   S.D. of innovations              0.065\n",
       "Date:                Tue, 05 Apr 2022   AIC                          -1374.206\n",
       "Time:                        12:13:13   BIC                          -1340.069\n",
       "Sample:                             1   HQIC                         -1360.841\n",
       "                                                                              \n",
       "=================================================================================\n",
       "                    coef    std err          z      P>|z|      [0.025      0.975]\n",
       "---------------------------------------------------------------------------------\n",
       "const             0.0011      0.003      0.398      0.691      -0.004       0.006\n",
       "ar.L1.D.Close     0.2345      0.814      0.288      0.773      -1.361       1.830\n",
       "ar.L2.D.Close     0.0203      0.066      0.306      0.760      -0.110       0.150\n",
       "ar.L3.D.Close     0.0190      0.044      0.427      0.669      -0.068       0.106\n",
       "ar.L4.D.Close     0.0554      0.047      1.179      0.238      -0.037       0.147\n",
       "ar.L5.D.Close    -0.0600      0.060     -1.008      0.313      -0.177       0.057\n",
       "ma.L1.D.Close    -0.2931      0.815     -0.360      0.719      -1.891       1.304\n",
       "                                    Roots                                    \n",
       "=============================================================================\n",
       "                  Real          Imaginary           Modulus         Frequency\n",
       "-----------------------------------------------------------------------------\n",
       "AR.1           -1.7349           -0.0000j            1.7349           -0.5000\n",
       "AR.2           -0.2940           -1.7018j            1.7270           -0.2772\n",
       "AR.3           -0.2940           +1.7018j            1.7270            0.2772\n",
       "AR.4            1.6228           -0.7657j            1.7943           -0.0702\n",
       "AR.5            1.6228           +0.7657j            1.7943            0.0702\n",
       "MA.1            3.4122           +0.0000j            3.4122            0.0000\n",
       "-----------------------------------------------------------------------------\n",
       "\"\"\""
      ]
     },
     "execution_count": 7,
     "metadata": {},
     "output_type": "execute_result"
    }
   ],
   "source": [
    "# Output model summary results:\n",
    "arima_results.summary()"
   ]
  },
  {
   "cell_type": "code",
   "execution_count": 8,
   "id": "fdb76d06-0cc6-45b1-9edf-12892c636e4c",
   "metadata": {},
   "outputs": [
    {
     "data": {
      "text/plain": [
       "<AxesSubplot:title={'center':'5 Day Price Forecast'}>"
      ]
     },
     "execution_count": 8,
     "metadata": {},
     "output_type": "execute_result"
    },
    {
     "data": {
      "image/png": "[encoded data removed]",
      "text/plain": [
       "<Figure size 432x288 with 1 Axes>"
      ]
     },
     "metadata": {
      "needs_background": "light"
     },
     "output_type": "display_data"
    }
   ],
   "source": [
    "# Plot the 5 Day Price Forecast\n",
    "pd.DataFrame(arima_results.forecast(steps=5)[0]).plot(title=\"5 Day Price Forecast\")"
   ]
  },
  {
   "cell_type": "markdown",
   "id": "2e5ee11b-9559-451d-9334-d50425faef1f",
   "metadata": {},
   "source": [
    "# Crypto Volatility Forecasting with GARCH\n",
    "\n",
    "Rather than predicting price, we forecast near-term **volatility** of future Crypto price action. Being able to accurately predict volatility will be extremely useful if we want to trade in derivatives or quantify our maximum loss.\n",
    " \n",
    "Using futures *Close*, the following GARCH model is produced:\n",
    "\n",
    "1. GARCH: We developed a GARCH model and fit it to the close data. Note: Setting parameters to p=2 and q=1: order=(2, 1).\n",
    "2. Output the GARCH summary table and take note of the p-values of the lags. Based on the p-values, is the model a good fit (p < 0.05)?\n",
    "3. Plot the 5-day forecast of the volatility."
   ]
  },
  {
   "cell_type": "code",
   "execution_count": 9,
   "id": "2945727f-8564-4f88-93c1-0c0b579d61ae",
   "metadata": {},
   "outputs": [],
   "source": [
    "from arch import arch_model\n",
    "from datetime import datetime"
   ]
  },
  {
   "cell_type": "code",
   "execution_count": 10,
   "id": "b00df0e2-da33-46fb-8b2e-7ba0b95db4ea",
   "metadata": {},
   "outputs": [
    {
     "name": "stdout",
     "output_type": "stream",
     "text": [
      "<class 'pandas.core.frame.DataFrame'>\n",
      "RangeIndex: 528 entries, 203 to 730\n",
      "Data columns (total 7 columns):\n",
      " #   Column     Non-Null Count  Dtype         \n",
      "---  ------     --------------  -----         \n",
      " 0   Date       528 non-null    datetime64[ns]\n",
      " 1   Open       528 non-null    float64       \n",
      " 2   High       528 non-null    float64       \n",
      " 3   Low        528 non-null    float64       \n",
      " 4   Close      528 non-null    float64       \n",
      " 5   Adj Close  528 non-null    float64       \n",
      " 6   Volume     528 non-null    int64         \n",
      "dtypes: datetime64[ns](1), float64(5), int64(1)\n",
      "memory usage: 29.0 KB\n"
     ]
    }
   ],
   "source": [
    "data['Date'] = pd.to_datetime(data['Date'])\n",
    "data.info()"
   ]
  },
  {
   "cell_type": "code",
   "execution_count": 11,
   "id": "f84ef202-3143-46c5-94c5-fffe7a86d70a",
   "metadata": {},
   "outputs": [
    {
     "data": {
      "text/html": [
       "<div>\n",
       "<style scoped>\n",
       "    .dataframe tbody tr th:only-of-type {\n",
       "        vertical-align: middle;\n",
       "    }\n",
       "\n",
       "    .dataframe tbody tr th {\n",
       "        vertical-align: top;\n",
       "    }\n",
       "\n",
       "    .dataframe thead th {\n",
       "        text-align: right;\n",
       "    }\n",
       "</style>\n",
       "<table border=\"1\" class=\"dataframe\">\n",
       "  <thead>\n",
       "    <tr style=\"text-align: right;\">\n",
       "      <th></th>\n",
       "      <th>Open</th>\n",
       "      <th>High</th>\n",
       "      <th>Low</th>\n",
       "      <th>Close</th>\n",
       "      <th>Adj Close</th>\n",
       "      <th>Volume</th>\n",
       "    </tr>\n",
       "    <tr>\n",
       "      <th>Date</th>\n",
       "      <th></th>\n",
       "      <th></th>\n",
       "      <th></th>\n",
       "      <th></th>\n",
       "      <th></th>\n",
       "      <th></th>\n",
       "    </tr>\n",
       "  </thead>\n",
       "  <tbody>\n",
       "    <tr>\n",
       "      <th>2022-04-01</th>\n",
       "      <td>0.814709</td>\n",
       "      <td>0.833678</td>\n",
       "      <td>0.810256</td>\n",
       "      <td>0.827740</td>\n",
       "      <td>0.827740</td>\n",
       "      <td>2091887103</td>\n",
       "    </tr>\n",
       "    <tr>\n",
       "      <th>2022-04-02</th>\n",
       "      <td>0.827735</td>\n",
       "      <td>0.848600</td>\n",
       "      <td>0.824828</td>\n",
       "      <td>0.824919</td>\n",
       "      <td>0.824919</td>\n",
       "      <td>1624227101</td>\n",
       "    </tr>\n",
       "    <tr>\n",
       "      <th>2022-04-03</th>\n",
       "      <td>0.824891</td>\n",
       "      <td>0.850154</td>\n",
       "      <td>0.817265</td>\n",
       "      <td>0.842950</td>\n",
       "      <td>0.842950</td>\n",
       "      <td>1348476817</td>\n",
       "    </tr>\n",
       "    <tr>\n",
       "      <th>2022-04-04</th>\n",
       "      <td>0.842923</td>\n",
       "      <td>0.842952</td>\n",
       "      <td>0.810890</td>\n",
       "      <td>0.827251</td>\n",
       "      <td>0.827251</td>\n",
       "      <td>1876069127</td>\n",
       "    </tr>\n",
       "    <tr>\n",
       "      <th>2022-04-05</th>\n",
       "      <td>0.827935</td>\n",
       "      <td>0.833054</td>\n",
       "      <td>0.819709</td>\n",
       "      <td>0.823951</td>\n",
       "      <td>0.823951</td>\n",
       "      <td>1604674560</td>\n",
       "    </tr>\n",
       "  </tbody>\n",
       "</table>\n",
       "</div>"
      ],
      "text/plain": [
       "                Open      High       Low     Close  Adj Close      Volume\n",
       "Date                                                                     \n",
       "2022-04-01  0.814709  0.833678  0.810256  0.827740   0.827740  2091887103\n",
       "2022-04-02  0.827735  0.848600  0.824828  0.824919   0.824919  1624227101\n",
       "2022-04-03  0.824891  0.850154  0.817265  0.842950   0.842950  1348476817\n",
       "2022-04-04  0.842923  0.842952  0.810890  0.827251   0.827251  1876069127\n",
       "2022-04-05  0.827935  0.833054  0.819709  0.823951   0.823951  1604674560"
      ]
     },
     "execution_count": 11,
     "metadata": {},
     "output_type": "execute_result"
    }
   ],
   "source": [
    "# set the index\n",
    "data.set_index('Date', inplace=True)\n",
    "data.tail()"
   ]
  },
  {
   "cell_type": "code",
   "execution_count": 12,
   "id": "2aeb6b55-b7e5-44d7-a670-96d30920eefd",
   "metadata": {},
   "outputs": [
    {
     "data": {
      "text/html": [
       "<div>\n",
       "<style scoped>\n",
       "    .dataframe tbody tr th:only-of-type {\n",
       "        vertical-align: middle;\n",
       "    }\n",
       "\n",
       "    .dataframe tbody tr th {\n",
       "        vertical-align: top;\n",
       "    }\n",
       "\n",
       "    .dataframe thead th {\n",
       "        text-align: right;\n",
       "    }\n",
       "</style>\n",
       "<table border=\"1\" class=\"dataframe\">\n",
       "  <thead>\n",
       "    <tr style=\"text-align: right;\">\n",
       "      <th></th>\n",
       "      <th>Close</th>\n",
       "    </tr>\n",
       "    <tr>\n",
       "      <th>Date</th>\n",
       "      <th></th>\n",
       "    </tr>\n",
       "  </thead>\n",
       "  <tbody>\n",
       "    <tr>\n",
       "      <th>2022-04-01</th>\n",
       "      <td>1.617555</td>\n",
       "    </tr>\n",
       "    <tr>\n",
       "      <th>2022-04-02</th>\n",
       "      <td>-0.340811</td>\n",
       "    </tr>\n",
       "    <tr>\n",
       "      <th>2022-04-03</th>\n",
       "      <td>2.185791</td>\n",
       "    </tr>\n",
       "    <tr>\n",
       "      <th>2022-04-04</th>\n",
       "      <td>-1.862384</td>\n",
       "    </tr>\n",
       "    <tr>\n",
       "      <th>2022-04-05</th>\n",
       "      <td>-0.398891</td>\n",
       "    </tr>\n",
       "  </tbody>\n",
       "</table>\n",
       "</div>"
      ],
      "text/plain": [
       "               Close\n",
       "Date                \n",
       "2022-04-01  1.617555\n",
       "2022-04-02 -0.340811\n",
       "2022-04-03  2.185791\n",
       "2022-04-04 -1.862384\n",
       "2022-04-05 -0.398891"
      ]
     },
     "execution_count": 12,
     "metadata": {},
     "output_type": "execute_result"
    }
   ],
   "source": [
    "# Create a series using \"Close\" price percentage returns, drop nan\"s, and check the results:\n",
    "vol = (data[[\"Close\"]].pct_change() * 100)\n",
    "vol = vol.replace(-np.inf, np.nan).dropna()\n",
    "vol.tail()"
   ]
  },
  {
   "cell_type": "code",
   "execution_count": 13,
   "id": "54303b0d-eb90-45c9-b82b-18d1b438b836",
   "metadata": {},
   "outputs": [
    {
     "data": {
      "text/plain": [
       "Date\n",
       "2020-10-26   -1.787030\n",
       "2020-10-27    1.693284\n",
       "2020-10-28   -2.781343\n",
       "2020-10-29   -1.452018\n",
       "2020-10-30   -1.283968\n",
       "Name: Close, dtype: float64"
      ]
     },
     "execution_count": 13,
     "metadata": {},
     "output_type": "execute_result"
    }
   ],
   "source": [
    "#Isolate 'Close' returns\n",
    "garch_df = vol['Close']\n",
    "garch_df.head()"
   ]
  },
  {
   "cell_type": "code",
   "execution_count": 14,
   "id": "1b15afc6-6fce-4082-b655-4a1f24d0b7f6",
   "metadata": {},
   "outputs": [],
   "source": [
    "# Estimate a GARCH model:\n",
    "garch_model = arch_model(garch_df, mean=\"Zero\", vol=\"GARCH\", p=2, q=1)"
   ]
  },
  {
   "cell_type": "code",
   "execution_count": 15,
   "id": "ab1902bd-2a21-4d84-8ef6-cb44ead4b608",
   "metadata": {},
   "outputs": [],
   "source": [
    "# Fit the model\n",
    "garch_results = garch_model.fit(disp=\"off\")"
   ]
  },
  {
   "cell_type": "code",
   "execution_count": 16,
   "id": "e50f084c-23eb-4e44-ae9a-f1b06a14ecf1",
   "metadata": {},
   "outputs": [
    {
     "data": {
      "text/html": [
       "<table class=\"simpletable\">\n",
       "<caption>Zero Mean - GARCH Model Results</caption>\n",
       "<tr>\n",
       "  <th>Dep. Variable:</th>        <td>Close</td>       <th>  R-squared:         </th>  <td>   0.000</td> \n",
       "</tr>\n",
       "<tr>\n",
       "  <th>Mean Model:</th>         <td>Zero Mean</td>     <th>  Adj. R-squared:    </th>  <td>   0.002</td> \n",
       "</tr>\n",
       "<tr>\n",
       "  <th>Vol Model:</th>            <td>GARCH</td>       <th>  Log-Likelihood:    </th> <td>  -1780.37</td>\n",
       "</tr>\n",
       "<tr>\n",
       "  <th>Distribution:</th>        <td>Normal</td>       <th>  AIC:               </th> <td>   3568.74</td>\n",
       "</tr>\n",
       "<tr>\n",
       "  <th>Method:</th>        <td>Maximum Likelihood</td> <th>  BIC:               </th> <td>   3585.81</td>\n",
       "</tr>\n",
       "<tr>\n",
       "  <th></th>                        <td></td>          <th>  No. Observations:  </th>     <td>527</td>   \n",
       "</tr>\n",
       "<tr>\n",
       "  <th>Date:</th>           <td>Tue, Apr 05 2022</td>  <th>  Df Residuals:      </th>     <td>527</td>   \n",
       "</tr>\n",
       "<tr>\n",
       "  <th>Time:</th>               <td>12:14:51</td>      <th>  Df Model:          </th>      <td>0</td>    \n",
       "</tr>\n",
       "</table>\n",
       "<table class=\"simpletable\">\n",
       "<caption>Volatility Model</caption>\n",
       "<tr>\n",
       "      <td></td>        <th>coef</th>     <th>std err</th>      <th>t</th>       <th>P>|t|</th>     <th>95.0% Conf. Int.</th>  \n",
       "</tr>\n",
       "<tr>\n",
       "  <th>omega</th>    <td>   13.4596</td> <td>   10.823</td> <td>    1.244</td> <td>    0.214</td>   <td>[ -7.754, 34.673]</td> \n",
       "</tr>\n",
       "<tr>\n",
       "  <th>alpha[1]</th> <td>    0.6945</td> <td>    0.366</td> <td>    1.899</td> <td>5.758e-02</td> <td>[-2.233e-02,  1.411]</td>\n",
       "</tr>\n",
       "<tr>\n",
       "  <th>alpha[2]</th> <td>4.9109e-11</td> <td>    0.432</td> <td>1.138e-10</td> <td>    1.000</td>   <td>[ -0.846,  0.846]</td> \n",
       "</tr>\n",
       "<tr>\n",
       "  <th>beta[1]</th>  <td>    0.3055</td> <td>    0.352</td> <td>    0.869</td> <td>    0.385</td>   <td>[ -0.384,  0.995]</td> \n",
       "</tr>\n",
       "</table><br/><br/>Covariance estimator: robust"
      ],
      "text/plain": [
       "<class 'statsmodels.iolib.summary.Summary'>\n",
       "\"\"\"\n",
       "                       Zero Mean - GARCH Model Results                        \n",
       "==============================================================================\n",
       "Dep. Variable:                  Close   R-squared:                       0.000\n",
       "Mean Model:                 Zero Mean   Adj. R-squared:                  0.002\n",
       "Vol Model:                      GARCH   Log-Likelihood:               -1780.37\n",
       "Distribution:                  Normal   AIC:                           3568.74\n",
       "Method:            Maximum Likelihood   BIC:                           3585.81\n",
       "                                        No. Observations:                  527\n",
       "Date:                Tue, Apr 05 2022   Df Residuals:                      527\n",
       "Time:                        12:14:51   Df Model:                            0\n",
       "                              Volatility Model                             \n",
       "===========================================================================\n",
       "                 coef    std err          t      P>|t|     95.0% Conf. Int.\n",
       "---------------------------------------------------------------------------\n",
       "omega         13.4596     10.823      1.244      0.214    [ -7.754, 34.673]\n",
       "alpha[1]       0.6945      0.366      1.899  5.758e-02 [-2.233e-02,  1.411]\n",
       "alpha[2]   4.9109e-11      0.432  1.138e-10      1.000    [ -0.846,  0.846]\n",
       "beta[1]        0.3055      0.352      0.869      0.385    [ -0.384,  0.995]\n",
       "===========================================================================\n",
       "\n",
       "Covariance estimator: robust\n",
       "\"\"\""
      ]
     },
     "execution_count": 16,
     "metadata": {},
     "output_type": "execute_result"
    }
   ],
   "source": [
    "# Summarize the model results\n",
    "garch_results.summary()"
   ]
  },
  {
   "cell_type": "code",
   "execution_count": 17,
   "id": "b464c01a-e24d-4fe2-a8a6-74c87ac55a1e",
   "metadata": {},
   "outputs": [
    {
     "data": {
      "text/plain": [
       "'2022-04-05'"
      ]
     },
     "execution_count": 17,
     "metadata": {},
     "output_type": "execute_result"
    }
   ],
   "source": [
    "# Find the last day of the dataset\n",
    "last_day = vol.index.max().strftime('%Y-%m-%d')\n",
    "last_day"
   ]
  },
  {
   "cell_type": "code",
   "execution_count": null,
   "id": "9145c7f3-d06c-4c16-937a-ecda4ff21096",
   "metadata": {},
   "outputs": [],
   "source": [
    "## Create a 5 day forecast of volatility\n",
    "forecast_horizon = 5\n",
    "# Start the forecast using the last_day calculated above\n",
    "garch_forecasts = garch_results.forecast(start='2022-03-29', horizon=forecast_horizon)\n",
    "garch_forecasts"
   ]
  },
  {
   "cell_type": "code",
   "execution_count": 19,
   "id": "7dcd888a-0ef5-4475-bd32-deca23d46fea",
   "metadata": {},
   "outputs": [
    {
     "data": {
      "text/html": [
       "<div>\n",
       "<style scoped>\n",
       "    .dataframe tbody tr th:only-of-type {\n",
       "        vertical-align: middle;\n",
       "    }\n",
       "\n",
       "    .dataframe tbody tr th {\n",
       "        vertical-align: top;\n",
       "    }\n",
       "\n",
       "    .dataframe thead th {\n",
       "        text-align: right;\n",
       "    }\n",
       "</style>\n",
       "<table border=\"1\" class=\"dataframe\">\n",
       "  <thead>\n",
       "    <tr style=\"text-align: right;\">\n",
       "      <th></th>\n",
       "      <th>h.1</th>\n",
       "      <th>h.2</th>\n",
       "      <th>h.3</th>\n",
       "      <th>h.4</th>\n",
       "      <th>h.5</th>\n",
       "    </tr>\n",
       "    <tr>\n",
       "      <th>Date</th>\n",
       "      <th></th>\n",
       "      <th></th>\n",
       "      <th></th>\n",
       "      <th></th>\n",
       "      <th></th>\n",
       "    </tr>\n",
       "  </thead>\n",
       "  <tbody>\n",
       "    <tr>\n",
       "      <th>2022-03-29</th>\n",
       "      <td>71.620014</td>\n",
       "      <td>92.310642</td>\n",
       "      <td>109.147070</td>\n",
       "      <td>123.713019</td>\n",
       "      <td>136.736021</td>\n",
       "    </tr>\n",
       "    <tr>\n",
       "      <th>2022-03-30</th>\n",
       "      <td>70.552598</td>\n",
       "      <td>91.484957</td>\n",
       "      <td>108.449645</td>\n",
       "      <td>123.098147</td>\n",
       "      <td>136.179962</td>\n",
       "    </tr>\n",
       "    <tr>\n",
       "      <th>2022-03-31</th>\n",
       "      <td>99.823246</td>\n",
       "      <td>115.570362</td>\n",
       "      <td>129.415366</td>\n",
       "      <td>141.916049</td>\n",
       "      <td>153.401412</td>\n",
       "    </tr>\n",
       "    <tr>\n",
       "      <th>2022-04-01</th>\n",
       "      <td>83.029605</td>\n",
       "      <td>101.418655</td>\n",
       "      <td>116.951152</td>\n",
       "      <td>130.649914</td>\n",
       "      <td>143.042750</td>\n",
       "    </tr>\n",
       "    <tr>\n",
       "      <th>2022-04-02</th>\n",
       "      <td>74.284688</td>\n",
       "      <td>94.393025</td>\n",
       "      <td>110.913802</td>\n",
       "      <td>125.274497</td>\n",
       "      <td>138.150381</td>\n",
       "    </tr>\n",
       "  </tbody>\n",
       "</table>\n",
       "</div>"
      ],
      "text/plain": [
       "                  h.1         h.2         h.3         h.4         h.5\n",
       "Date                                                                 \n",
       "2022-03-29  71.620014   92.310642  109.147070  123.713019  136.736021\n",
       "2022-03-30  70.552598   91.484957  108.449645  123.098147  136.179962\n",
       "2022-03-31  99.823246  115.570362  129.415366  141.916049  153.401412\n",
       "2022-04-01  83.029605  101.418655  116.951152  130.649914  143.042750\n",
       "2022-04-02  74.284688   94.393025  110.913802  125.274497  138.150381"
      ]
     },
     "execution_count": 19,
     "metadata": {},
     "output_type": "execute_result"
    }
   ],
   "source": [
    "# Annualize the forecast\n",
    "intermediate = np.sqrt(garch_forecasts.variance.dropna() * 252)\n",
    "intermediate.head()"
   ]
  },
  {
   "cell_type": "code",
   "execution_count": 20,
   "id": "f916cfec-c240-43c8-89c0-feb75235d718",
   "metadata": {},
   "outputs": [
    {
     "data": {
      "text/html": [
       "<div>\n",
       "<style scoped>\n",
       "    .dataframe tbody tr th:only-of-type {\n",
       "        vertical-align: middle;\n",
       "    }\n",
       "\n",
       "    .dataframe tbody tr th {\n",
       "        vertical-align: top;\n",
       "    }\n",
       "\n",
       "    .dataframe thead th {\n",
       "        text-align: right;\n",
       "    }\n",
       "</style>\n",
       "<table border=\"1\" class=\"dataframe\">\n",
       "  <thead>\n",
       "    <tr style=\"text-align: right;\">\n",
       "      <th>Date</th>\n",
       "      <th>2022-03-29</th>\n",
       "      <th>2022-03-30</th>\n",
       "      <th>2022-03-31</th>\n",
       "      <th>2022-04-01</th>\n",
       "      <th>2022-04-02</th>\n",
       "      <th>2022-04-03</th>\n",
       "      <th>2022-04-04</th>\n",
       "      <th>2022-04-05</th>\n",
       "    </tr>\n",
       "  </thead>\n",
       "  <tbody>\n",
       "    <tr>\n",
       "      <th>h.1</th>\n",
       "      <td>71.620014</td>\n",
       "      <td>70.552598</td>\n",
       "      <td>99.823246</td>\n",
       "      <td>83.029605</td>\n",
       "      <td>74.284688</td>\n",
       "      <td>76.901127</td>\n",
       "      <td>76.193811</td>\n",
       "      <td>72.064050</td>\n",
       "    </tr>\n",
       "    <tr>\n",
       "      <th>h.2</th>\n",
       "      <td>92.310642</td>\n",
       "      <td>91.484957</td>\n",
       "      <td>115.570362</td>\n",
       "      <td>101.418655</td>\n",
       "      <td>94.393025</td>\n",
       "      <td>96.465598</td>\n",
       "      <td>95.902686</td>\n",
       "      <td>92.655575</td>\n",
       "    </tr>\n",
       "    <tr>\n",
       "      <th>h.3</th>\n",
       "      <td>109.147070</td>\n",
       "      <td>108.449645</td>\n",
       "      <td>129.415366</td>\n",
       "      <td>116.951152</td>\n",
       "      <td>110.913802</td>\n",
       "      <td>112.682917</td>\n",
       "      <td>112.201396</td>\n",
       "      <td>109.438950</td>\n",
       "    </tr>\n",
       "    <tr>\n",
       "      <th>h.4</th>\n",
       "      <td>123.713019</td>\n",
       "      <td>123.098147</td>\n",
       "      <td>141.916049</td>\n",
       "      <td>130.649914</td>\n",
       "      <td>125.274497</td>\n",
       "      <td>126.843478</td>\n",
       "      <td>126.415907</td>\n",
       "      <td>123.970609</td>\n",
       "    </tr>\n",
       "    <tr>\n",
       "      <th>h.5</th>\n",
       "      <td>136.736021</td>\n",
       "      <td>136.179962</td>\n",
       "      <td>153.401412</td>\n",
       "      <td>143.042750</td>\n",
       "      <td>138.150381</td>\n",
       "      <td>139.574698</td>\n",
       "      <td>139.186241</td>\n",
       "      <td>136.969122</td>\n",
       "    </tr>\n",
       "  </tbody>\n",
       "</table>\n",
       "</div>"
      ],
      "text/plain": [
       "Date  2022-03-29  2022-03-30  2022-03-31  2022-04-01  2022-04-02  2022-04-03  \\\n",
       "h.1    71.620014   70.552598   99.823246   83.029605   74.284688   76.901127   \n",
       "h.2    92.310642   91.484957  115.570362  101.418655   94.393025   96.465598   \n",
       "h.3   109.147070  108.449645  129.415366  116.951152  110.913802  112.682917   \n",
       "h.4   123.713019  123.098147  141.916049  130.649914  125.274497  126.843478   \n",
       "h.5   136.736021  136.179962  153.401412  143.042750  138.150381  139.574698   \n",
       "\n",
       "Date  2022-04-04  2022-04-05  \n",
       "h.1    76.193811   72.064050  \n",
       "h.2    95.902686   92.655575  \n",
       "h.3   112.201396  109.438950  \n",
       "h.4   126.415907  123.970609  \n",
       "h.5   139.186241  136.969122  "
      ]
     },
     "execution_count": 20,
     "metadata": {},
     "output_type": "execute_result"
    }
   ],
   "source": [
    "# Transpose the forecast so that it is easier to plot\n",
    "final = intermediate.dropna().T\n",
    "final.head()"
   ]
  },
  {
   "cell_type": "code",
   "execution_count": 21,
   "id": "4632a8e8-aad6-4e03-bf8d-765bc73c6d27",
   "metadata": {},
   "outputs": [
    {
     "data": {
      "text/plain": [
       "<AxesSubplot:title={'center':'5 Day Crypto Volatility Forecast'}>"
      ]
     },
     "execution_count": 21,
     "metadata": {},
     "output_type": "execute_result"
    },
    {
     "data": {
      "image/png": "[encoded data removed]",
      "text/plain": [
       "<Figure size 432x288 with 1 Axes>"
      ]
     },
     "metadata": {
      "needs_background": "light"
     },
     "output_type": "display_data"
    }
   ],
   "source": [
    "# Plot the final forecast\n",
    "final.plot(title='5 Day Crypto Volatility Forecast')"
   ]
  },
  {
   "cell_type": "code",
   "execution_count": null,
   "id": "2008786d-b053-4b0e-8288-cc94e5473132",
   "metadata": {},
   "outputs": [],
   "source": []
  }
 ],
 "metadata": {
  "kernelspec": {
   "display_name": "Python 3 (ipykernel)",
   "language": "python",
   "name": "python3"
  },
  "language_info": {
   "codemirror_mode": {
    "name": "ipython",
    "version": 3
   },
   "file_extension": ".py",
   "mimetype": "text/x-python",
   "name": "python",
   "nbconvert_exporter": "python",
   "pygments_lexer": "ipython3",
   "version": "3.7.11"
  }
 },
 "nbformat": 4,
 "nbformat_minor": 5
}
