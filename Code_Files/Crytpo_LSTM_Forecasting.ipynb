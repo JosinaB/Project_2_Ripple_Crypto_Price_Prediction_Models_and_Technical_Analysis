{
 "cells": [
  {
   "cell_type": "code",
   "execution_count": 1,
   "id": "05b07166-cf31-4797-b0b6-5084703f535f",
   "metadata": {},
   "outputs": [],
   "source": [
    "import pandas as pd\n",
    "import numpy as np\n",
    "import yfinance as yf\n",
    "import datetime\n",
    "from datetime import date, timedelta\n",
    "%matplotlib inline\n",
    "\n",
    "today = date.today()"
   ]
  },
  {
   "cell_type": "markdown",
   "id": "4bb3b2b1-b794-4f3a-83f3-8f6d7fbb4595",
   "metadata": {
    "tags": []
   },
   "source": [
    "# LSTM Crypto Stock Predictor Using Closing Prices\n",
    "\n",
    "In this notebook, we build and train a custom LSTM RNN that uses a 10 day window of XRP closing prices to predict the 11th day closing price. \n",
    "\n",
    "We will perform the following tasks:\n",
    "\n",
    "1. Prepare the data for training and testing\n",
    "2. Build and train a custom LSTM RNN\n",
    "3. Evaluate the performance of the model"
   ]
  },
  {
   "cell_type": "code",
   "execution_count": 2,
   "id": "a72cf62c-91b1-4098-85ad-0a2a294d412f",
   "metadata": {},
   "outputs": [],
   "source": [
    "# Set the random seed for reproducibility\n",
    "from numpy.random import seed\n",
    "seed(1)\n",
    "from tensorflow import random\n",
    "random.set_seed(2)"
   ]
  },
  {
   "cell_type": "markdown",
   "id": "ff1ffe83-32a1-4509-8dd7-9e394daeaa74",
   "metadata": {},
   "source": [
    "## Data Preparation\n",
    "\n",
    "In this section, we prepare the training and testing data for the model. The model will use a rolling 10 day window to predict the 11th day closing price.\n",
    "\n",
    "For data prep we perform the following:\n",
    "1. Use the `window_data` function to generate the X and y values for the model.\n",
    "2. Split the data into 70% training and 30% testing\n",
    "3. Apply the MinMaxScaler to the X and y values\n",
    "4. Reshape the X_train and X_test data for the model. Note: we followed the following input format for the LSTM:\n",
    "\n",
    "```python\n",
    "reshape((X_train.shape[0], X_train.shape[1], 1))\n",
    "```"
   ]
  },
  {
   "cell_type": "code",
   "execution_count": 3,
   "id": "843e21f0-9fb1-49e5-951a-37903ef52f01",
   "metadata": {},
   "outputs": [
    {
     "data": {
      "text/html": [
       "<div>\n",
       "<style scoped>\n",
       "    .dataframe tbody tr th:only-of-type {\n",
       "        vertical-align: middle;\n",
       "    }\n",
       "\n",
       "    .dataframe tbody tr th {\n",
       "        vertical-align: top;\n",
       "    }\n",
       "\n",
       "    .dataframe thead th {\n",
       "        text-align: right;\n",
       "    }\n",
       "</style>\n",
       "<table border=\"1\" class=\"dataframe\">\n",
       "  <thead>\n",
       "    <tr style=\"text-align: right;\">\n",
       "      <th></th>\n",
       "      <th>Date</th>\n",
       "      <th>Open</th>\n",
       "      <th>High</th>\n",
       "      <th>Low</th>\n",
       "      <th>Close</th>\n",
       "      <th>Adj Close</th>\n",
       "      <th>Volume</th>\n",
       "    </tr>\n",
       "  </thead>\n",
       "  <tbody>\n",
       "    <tr>\n",
       "      <th>721</th>\n",
       "      <td>2022-03-27</td>\n",
       "      <td>0.832815</td>\n",
       "      <td>0.857376</td>\n",
       "      <td>0.830339</td>\n",
       "      <td>0.857343</td>\n",
       "      <td>0.857343</td>\n",
       "      <td>1505124770</td>\n",
       "    </tr>\n",
       "    <tr>\n",
       "      <th>722</th>\n",
       "      <td>2022-03-28</td>\n",
       "      <td>0.857408</td>\n",
       "      <td>0.908086</td>\n",
       "      <td>0.855211</td>\n",
       "      <td>0.863304</td>\n",
       "      <td>0.863304</td>\n",
       "      <td>3205464277</td>\n",
       "    </tr>\n",
       "    <tr>\n",
       "      <th>723</th>\n",
       "      <td>2022-03-29</td>\n",
       "      <td>0.863089</td>\n",
       "      <td>0.884441</td>\n",
       "      <td>0.848861</td>\n",
       "      <td>0.858000</td>\n",
       "      <td>0.858000</td>\n",
       "      <td>2120020042</td>\n",
       "    </tr>\n",
       "    <tr>\n",
       "      <th>724</th>\n",
       "      <td>2022-03-30</td>\n",
       "      <td>0.857942</td>\n",
       "      <td>0.871279</td>\n",
       "      <td>0.849425</td>\n",
       "      <td>0.860814</td>\n",
       "      <td>0.860814</td>\n",
       "      <td>1832671641</td>\n",
       "    </tr>\n",
       "    <tr>\n",
       "      <th>725</th>\n",
       "      <td>2022-03-31</td>\n",
       "      <td>0.860880</td>\n",
       "      <td>0.870866</td>\n",
       "      <td>0.803881</td>\n",
       "      <td>0.814564</td>\n",
       "      <td>0.814564</td>\n",
       "      <td>2611691934</td>\n",
       "    </tr>\n",
       "    <tr>\n",
       "      <th>726</th>\n",
       "      <td>2022-04-01</td>\n",
       "      <td>0.814709</td>\n",
       "      <td>0.833678</td>\n",
       "      <td>0.810256</td>\n",
       "      <td>0.827740</td>\n",
       "      <td>0.827740</td>\n",
       "      <td>2091887103</td>\n",
       "    </tr>\n",
       "    <tr>\n",
       "      <th>727</th>\n",
       "      <td>2022-04-02</td>\n",
       "      <td>0.827735</td>\n",
       "      <td>0.848600</td>\n",
       "      <td>0.824828</td>\n",
       "      <td>0.824919</td>\n",
       "      <td>0.824919</td>\n",
       "      <td>1624227101</td>\n",
       "    </tr>\n",
       "    <tr>\n",
       "      <th>728</th>\n",
       "      <td>2022-04-03</td>\n",
       "      <td>0.824891</td>\n",
       "      <td>0.850154</td>\n",
       "      <td>0.817265</td>\n",
       "      <td>0.842950</td>\n",
       "      <td>0.842950</td>\n",
       "      <td>1348476817</td>\n",
       "    </tr>\n",
       "    <tr>\n",
       "      <th>729</th>\n",
       "      <td>2022-04-04</td>\n",
       "      <td>0.842923</td>\n",
       "      <td>0.842952</td>\n",
       "      <td>0.810890</td>\n",
       "      <td>0.827251</td>\n",
       "      <td>0.827251</td>\n",
       "      <td>1876069127</td>\n",
       "    </tr>\n",
       "    <tr>\n",
       "      <th>730</th>\n",
       "      <td>2022-04-05</td>\n",
       "      <td>0.827935</td>\n",
       "      <td>0.833054</td>\n",
       "      <td>0.823133</td>\n",
       "      <td>0.824046</td>\n",
       "      <td>0.824046</td>\n",
       "      <td>1649471616</td>\n",
       "    </tr>\n",
       "  </tbody>\n",
       "</table>\n",
       "</div>"
      ],
      "text/plain": [
       "          Date      Open      High       Low     Close  Adj Close      Volume\n",
       "721 2022-03-27  0.832815  0.857376  0.830339  0.857343   0.857343  1505124770\n",
       "722 2022-03-28  0.857408  0.908086  0.855211  0.863304   0.863304  3205464277\n",
       "723 2022-03-29  0.863089  0.884441  0.848861  0.858000   0.858000  2120020042\n",
       "724 2022-03-30  0.857942  0.871279  0.849425  0.860814   0.860814  1832671641\n",
       "725 2022-03-31  0.860880  0.870866  0.803881  0.814564   0.814564  2611691934\n",
       "726 2022-04-01  0.814709  0.833678  0.810256  0.827740   0.827740  2091887103\n",
       "727 2022-04-02  0.827735  0.848600  0.824828  0.824919   0.824919  1624227101\n",
       "728 2022-04-03  0.824891  0.850154  0.817265  0.842950   0.842950  1348476817\n",
       "729 2022-04-04  0.842923  0.842952  0.810890  0.827251   0.827251  1876069127\n",
       "730 2022-04-05  0.827935  0.833054  0.823133  0.824046   0.824046  1649471616"
      ]
     },
     "execution_count": 3,
     "metadata": {},
     "output_type": "execute_result"
    }
   ],
   "source": [
    "d1 = today.strftime(\"%Y-%m-%d\")\n",
    "end_date = d1\n",
    "d2 = date.today() - timedelta(days=730)\n",
    "d2 = d2.strftime(\"%Y-%m-%d\")\n",
    "start_date = d2\n",
    "\n",
    "data = yf.download('XRP-USD', \n",
    "                      start=start_date, \n",
    "                      end=end_date, \n",
    "                      progress=False)\n",
    "data[\"Date\"] = data.index\n",
    "data = data[[\"Date\", \"Open\", \"High\", \"Low\", \"Close\", \"Adj Close\", \"Volume\"]]\n",
    "data.reset_index(drop=True, inplace=True)\n",
    "#print(data.head())\n",
    "data.tail(10)\n"
   ]
  },
  {
   "cell_type": "code",
   "execution_count": 4,
   "id": "9596a9ef-281d-498d-a427-a92cf1514f9c",
   "metadata": {},
   "outputs": [
    {
     "data": {
      "text/html": [
       "<div>\n",
       "<style scoped>\n",
       "    .dataframe tbody tr th:only-of-type {\n",
       "        vertical-align: middle;\n",
       "    }\n",
       "\n",
       "    .dataframe tbody tr th {\n",
       "        vertical-align: top;\n",
       "    }\n",
       "\n",
       "    .dataframe thead th {\n",
       "        text-align: right;\n",
       "    }\n",
       "</style>\n",
       "<table border=\"1\" class=\"dataframe\">\n",
       "  <thead>\n",
       "    <tr style=\"text-align: right;\">\n",
       "      <th></th>\n",
       "      <th>Open</th>\n",
       "      <th>High</th>\n",
       "      <th>Low</th>\n",
       "      <th>Close</th>\n",
       "      <th>Adj Close</th>\n",
       "      <th>Volume</th>\n",
       "    </tr>\n",
       "    <tr>\n",
       "      <th>Date</th>\n",
       "      <th></th>\n",
       "      <th></th>\n",
       "      <th></th>\n",
       "      <th></th>\n",
       "      <th></th>\n",
       "      <th></th>\n",
       "    </tr>\n",
       "  </thead>\n",
       "  <tbody>\n",
       "    <tr>\n",
       "      <th>2022-04-01</th>\n",
       "      <td>0.814709</td>\n",
       "      <td>0.833678</td>\n",
       "      <td>0.810256</td>\n",
       "      <td>0.827740</td>\n",
       "      <td>0.827740</td>\n",
       "      <td>2091887103</td>\n",
       "    </tr>\n",
       "    <tr>\n",
       "      <th>2022-04-02</th>\n",
       "      <td>0.827735</td>\n",
       "      <td>0.848600</td>\n",
       "      <td>0.824828</td>\n",
       "      <td>0.824919</td>\n",
       "      <td>0.824919</td>\n",
       "      <td>1624227101</td>\n",
       "    </tr>\n",
       "    <tr>\n",
       "      <th>2022-04-03</th>\n",
       "      <td>0.824891</td>\n",
       "      <td>0.850154</td>\n",
       "      <td>0.817265</td>\n",
       "      <td>0.842950</td>\n",
       "      <td>0.842950</td>\n",
       "      <td>1348476817</td>\n",
       "    </tr>\n",
       "    <tr>\n",
       "      <th>2022-04-04</th>\n",
       "      <td>0.842923</td>\n",
       "      <td>0.842952</td>\n",
       "      <td>0.810890</td>\n",
       "      <td>0.827251</td>\n",
       "      <td>0.827251</td>\n",
       "      <td>1876069127</td>\n",
       "    </tr>\n",
       "    <tr>\n",
       "      <th>2022-04-05</th>\n",
       "      <td>0.827935</td>\n",
       "      <td>0.833054</td>\n",
       "      <td>0.823133</td>\n",
       "      <td>0.824046</td>\n",
       "      <td>0.824046</td>\n",
       "      <td>1649471616</td>\n",
       "    </tr>\n",
       "  </tbody>\n",
       "</table>\n",
       "</div>"
      ],
      "text/plain": [
       "                Open      High       Low     Close  Adj Close      Volume\n",
       "Date                                                                     \n",
       "2022-04-01  0.814709  0.833678  0.810256  0.827740   0.827740  2091887103\n",
       "2022-04-02  0.827735  0.848600  0.824828  0.824919   0.824919  1624227101\n",
       "2022-04-03  0.824891  0.850154  0.817265  0.842950   0.842950  1348476817\n",
       "2022-04-04  0.842923  0.842952  0.810890  0.827251   0.827251  1876069127\n",
       "2022-04-05  0.827935  0.833054  0.823133  0.824046   0.824046  1649471616"
      ]
     },
     "execution_count": 4,
     "metadata": {},
     "output_type": "execute_result"
    }
   ],
   "source": [
    "# set the index\n",
    "data.set_index('Date', inplace=True)\n",
    "data.tail()"
   ]
  },
  {
   "cell_type": "code",
   "execution_count": 5,
   "id": "36962ff9-1ef1-404f-812e-38307f57fec5",
   "metadata": {},
   "outputs": [
    {
     "data": {
      "text/html": [
       "<div>\n",
       "<style scoped>\n",
       "    .dataframe tbody tr th:only-of-type {\n",
       "        vertical-align: middle;\n",
       "    }\n",
       "\n",
       "    .dataframe tbody tr th {\n",
       "        vertical-align: top;\n",
       "    }\n",
       "\n",
       "    .dataframe thead th {\n",
       "        text-align: right;\n",
       "    }\n",
       "</style>\n",
       "<table border=\"1\" class=\"dataframe\">\n",
       "  <thead>\n",
       "    <tr style=\"text-align: right;\">\n",
       "      <th></th>\n",
       "      <th>Open</th>\n",
       "      <th>Close</th>\n",
       "    </tr>\n",
       "    <tr>\n",
       "      <th>Date</th>\n",
       "      <th></th>\n",
       "      <th></th>\n",
       "    </tr>\n",
       "  </thead>\n",
       "  <tbody>\n",
       "    <tr>\n",
       "      <th>2020-04-05</th>\n",
       "      <td>0.181764</td>\n",
       "      <td>0.179406</td>\n",
       "    </tr>\n",
       "    <tr>\n",
       "      <th>2020-04-06</th>\n",
       "      <td>0.179628</td>\n",
       "      <td>0.195506</td>\n",
       "    </tr>\n",
       "    <tr>\n",
       "      <th>2020-04-07</th>\n",
       "      <td>0.195686</td>\n",
       "      <td>0.192093</td>\n",
       "    </tr>\n",
       "    <tr>\n",
       "      <th>2020-04-08</th>\n",
       "      <td>0.192137</td>\n",
       "      <td>0.200869</td>\n",
       "    </tr>\n",
       "    <tr>\n",
       "      <th>2020-04-09</th>\n",
       "      <td>0.200973</td>\n",
       "      <td>0.198257</td>\n",
       "    </tr>\n",
       "  </tbody>\n",
       "</table>\n",
       "</div>"
      ],
      "text/plain": [
       "                Open     Close\n",
       "Date                          \n",
       "2020-04-05  0.181764  0.179406\n",
       "2020-04-06  0.179628  0.195506\n",
       "2020-04-07  0.195686  0.192093\n",
       "2020-04-08  0.192137  0.200869\n",
       "2020-04-09  0.200973  0.198257"
      ]
     },
     "execution_count": 5,
     "metadata": {},
     "output_type": "execute_result"
    }
   ],
   "source": [
    "data_df = data.drop(columns=['High', 'Low', 'Adj Close', 'Volume'])\n",
    "data_df.head()"
   ]
  },
  {
   "cell_type": "code",
   "execution_count": 6,
   "id": "956f40c9-d19b-4786-9556-b4bb2a05d9c2",
   "metadata": {},
   "outputs": [
    {
     "data": {
      "text/html": [
       "<div>\n",
       "<style scoped>\n",
       "    .dataframe tbody tr th:only-of-type {\n",
       "        vertical-align: middle;\n",
       "    }\n",
       "\n",
       "    .dataframe tbody tr th {\n",
       "        vertical-align: top;\n",
       "    }\n",
       "\n",
       "    .dataframe thead th {\n",
       "        text-align: right;\n",
       "    }\n",
       "</style>\n",
       "<table border=\"1\" class=\"dataframe\">\n",
       "  <thead>\n",
       "    <tr style=\"text-align: right;\">\n",
       "      <th></th>\n",
       "      <th>Open</th>\n",
       "      <th>Close</th>\n",
       "    </tr>\n",
       "    <tr>\n",
       "      <th>Date</th>\n",
       "      <th></th>\n",
       "      <th></th>\n",
       "    </tr>\n",
       "  </thead>\n",
       "  <tbody>\n",
       "    <tr>\n",
       "      <th>2022-04-01</th>\n",
       "      <td>0.814709</td>\n",
       "      <td>0.827740</td>\n",
       "    </tr>\n",
       "    <tr>\n",
       "      <th>2022-04-02</th>\n",
       "      <td>0.827735</td>\n",
       "      <td>0.824919</td>\n",
       "    </tr>\n",
       "    <tr>\n",
       "      <th>2022-04-03</th>\n",
       "      <td>0.824891</td>\n",
       "      <td>0.842950</td>\n",
       "    </tr>\n",
       "    <tr>\n",
       "      <th>2022-04-04</th>\n",
       "      <td>0.842923</td>\n",
       "      <td>0.827251</td>\n",
       "    </tr>\n",
       "    <tr>\n",
       "      <th>2022-04-05</th>\n",
       "      <td>0.827935</td>\n",
       "      <td>0.824046</td>\n",
       "    </tr>\n",
       "  </tbody>\n",
       "</table>\n",
       "</div>"
      ],
      "text/plain": [
       "                Open     Close\n",
       "Date                          \n",
       "2022-04-01  0.814709  0.827740\n",
       "2022-04-02  0.827735  0.824919\n",
       "2022-04-03  0.824891  0.842950\n",
       "2022-04-04  0.842923  0.827251\n",
       "2022-04-05  0.827935  0.824046"
      ]
     },
     "execution_count": 6,
     "metadata": {},
     "output_type": "execute_result"
    }
   ],
   "source": [
    "# Trim the dataset to begin on September 01 2020, or about 18 months of data\n",
    "data_df = data_df.loc[\"2020-09-01\":, :]\n",
    "data_df.tail()"
   ]
  },
  {
   "cell_type": "code",
   "execution_count": 7,
   "id": "fff90727-fe45-4b92-9f48-97712bfa8ecc",
   "metadata": {},
   "outputs": [
    {
     "data": {
      "text/plain": [
       "<AxesSubplot:title={'center':'Crypto Close Prices'}, xlabel='Date'>"
      ]
     },
     "execution_count": 7,
     "metadata": {},
     "output_type": "execute_result"
    },
    {
     "data": {
      "image/png": "[encoded data removed]",
      "text/plain": [
       "<Figure size 864x504 with 1 Axes>"
      ]
     },
     "metadata": {
      "needs_background": "light"
     },
     "output_type": "display_data"
    }
   ],
   "source": [
    "# Plot just the \"Settle\" column from the dataframe:\n",
    "data_df.Close.plot(title='Crypto Close Prices', figsize=(12,7))"
   ]
  },
  {
   "cell_type": "code",
   "execution_count": 8,
   "id": "2008786d-b053-4b0e-8288-cc94e5473132",
   "metadata": {},
   "outputs": [],
   "source": [
    "# Create a function that accepts the column number for the features (X) and the target (y)\n",
    "# It chunks the data up with a rolling window of Xt-n to predict Xt\n",
    "# It returns a numpy array of X any y\n",
    "def window_data(df, window, feature_col_number, target_col_number):\n",
    "    X = []\n",
    "    y = []\n",
    "    for i in range(len(df) - window - 1):\n",
    "        features = df.iloc[i:(i + window), feature_col_number]\n",
    "        target = df.iloc[(i + window), target_col_number]\n",
    "        X.append(features)\n",
    "        y.append(target)\n",
    "    return np.array(X), np.array(y).reshape(-1, 1)"
   ]
  },
  {
   "cell_type": "code",
   "execution_count": 9,
   "id": "83b23dc2-6bf1-469f-94e9-de13c2f3a08e",
   "metadata": {},
   "outputs": [
    {
     "name": "stdout",
     "output_type": "stream",
     "text": [
      "X sample values:\n",
      "[[0.29569599 0.27646101 0.24658    0.25588301 0.237692   0.240731\n",
      "  0.242174  ]\n",
      " [0.27646101 0.24658    0.25588301 0.237692   0.240731   0.242174\n",
      "  0.236753  ]\n",
      " [0.24658    0.25588301 0.237692   0.240731   0.242174   0.236753\n",
      "  0.239609  ]\n",
      " [0.25588301 0.237692   0.240731   0.242174   0.236753   0.239609\n",
      "  0.24353001]\n",
      " [0.237692   0.240731   0.242174   0.236753   0.239609   0.24353001\n",
      "  0.243292  ]] \n",
      "\n",
      "y sample values:\n",
      "[[0.236753  ]\n",
      " [0.239609  ]\n",
      " [0.24353001]\n",
      " [0.243292  ]\n",
      " [0.247814  ]]\n"
     ]
    }
   ],
   "source": [
    "# Predict Closing Prices using a 10 day window of previous closing prices\n",
    "# Then, we will experiment with window sizes anywhere from 1 to 10 and see how the model performance changes\n",
    "# It was determined a 7 day window was most optimized for loss\n",
    "window_size = 7\n",
    "\n",
    "# Column index 0 is the 'Open' column\n",
    "# Column index 1 is the `Close` column\n",
    "feature_column = 1\n",
    "target_column = 1\n",
    "X, y = window_data(data_df, window_size, feature_column, target_column)\n",
    "print (f\"X sample values:\\n{X[:5]} \\n\")\n",
    "print (f\"y sample values:\\n{y[:5]}\")"
   ]
  },
  {
   "cell_type": "code",
   "execution_count": 10,
   "id": "026d00cd-4753-4b63-a905-e4b951adfe42",
   "metadata": {},
   "outputs": [],
   "source": [
    "# We used 70% of the data for training and the remainder for testing\n",
    "split = int(0.7 * len(X))\n",
    "X_train = X[: split]\n",
    "X_test = X[split:]\n",
    "y_train = y[: split]\n",
    "y_test = y[split:]"
   ]
  },
  {
   "cell_type": "code",
   "execution_count": 11,
   "id": "6240eb53-1968-4a08-99e8-9e4c3c67a903",
   "metadata": {},
   "outputs": [],
   "source": [
    "from sklearn.preprocessing import MinMaxScaler\n",
    "# MinMaxScaler to scale data between 0 and 1.\n",
    "# Create a MinMaxScaler object\n",
    "scaler = MinMaxScaler()\n",
    "\n",
    "# Fit the MinMaxScaler object with the training feature data X_train\n",
    "scaler.fit(X_train)\n",
    "\n",
    "# Scale the features training and testing sets\n",
    "X_train = scaler.transform(X_train)\n",
    "X_test = scaler.transform(X_test)\n",
    "\n",
    "# Fit the MinMaxScaler object with the training target data y_train\n",
    "scaler.fit(y_train)\n",
    "\n",
    "# Scale the target training and testing sets\n",
    "y_train = scaler.transform(y_train)\n",
    "y_test = scaler.transform(y_test)"
   ]
  },
  {
   "cell_type": "code",
   "execution_count": 12,
   "id": "01362fe5-38f2-4f28-8bf3-e2dcbfb31335",
   "metadata": {},
   "outputs": [
    {
     "name": "stdout",
     "output_type": "stream",
     "text": [
      "X_train sample values:\n",
      "[[[0.05153471]\n",
      "  [0.03971531]\n",
      "  [0.02135421]\n",
      "  [0.02707066]\n",
      "  [0.01589276]\n",
      "  [0.01776015]\n",
      "  [0.01864683]]\n",
      "\n",
      " [[0.03971531]\n",
      "  [0.02135421]\n",
      "  [0.02707066]\n",
      "  [0.01589276]\n",
      "  [0.01776015]\n",
      "  [0.01864683]\n",
      "  [0.01531577]]] \n",
      "\n",
      "X_test sample values:\n",
      "[[[0.52611142]\n",
      "  [0.52295614]\n",
      "  [0.58258166]\n",
      "  [0.56938702]\n",
      "  [0.56903981]\n",
      "  [0.54690094]\n",
      "  [0.56320478]]\n",
      "\n",
      " [[0.52295614]\n",
      "  [0.58258166]\n",
      "  [0.56938702]\n",
      "  [0.56903981]\n",
      "  [0.54690094]\n",
      "  [0.56320478]\n",
      "  [0.56561599]]]\n"
     ]
    }
   ],
   "source": [
    "# Reshape the features for the model\n",
    "X_train = X_train.reshape((X_train.shape[0], X_train.shape[1], 1))\n",
    "X_test = X_test.reshape((X_test.shape[0], X_test.shape[1], 1))\n",
    "print (f\"X_train sample values:\\n{X_train[:2]} \\n\")\n",
    "print (f\"X_test sample values:\\n{X_test[:2]}\")"
   ]
  },
  {
   "cell_type": "markdown",
   "id": "ebda3b91-1c85-4531-b412-f476bf9ab79e",
   "metadata": {},
   "source": [
    "## Build and Train the LSTM RNN\n",
    "\n",
    "In this section, we designed a custom LSTM RNN and fit (train) it using the training data.\n",
    "\n",
    "We performed the following tasks:\n",
    "1. Define the model architecture\n",
    "2. Compile the model\n",
    "3. Fit the model to the training data"
   ]
  },
  {
   "cell_type": "code",
   "execution_count": 13,
   "id": "56e327bd-2866-4269-99fb-b956e3539d03",
   "metadata": {},
   "outputs": [],
   "source": [
    "from tensorflow.keras.models import Sequential\n",
    "from tensorflow.keras.layers import LSTM, Dense, Dropout"
   ]
  },
  {
   "cell_type": "code",
   "execution_count": null,
   "id": "5889deec-37a8-40c9-94e2-303387fd4067",
   "metadata": {},
   "outputs": [],
   "source": [
    "# LSTM model code  \n",
    "# Kept dropouts to help prevent overfitting\n",
    "# Note: The input shape is the number of time steps and the number of indicators\n",
    "# Note: Batching inputs has a different input shape of Samples/TimeSteps/Features\n",
    "\n",
    "model = Sequential()\n",
    "\n",
    "number_units = 5\n",
    "dropout_fraction = 0.2\n",
    "\n",
    "# Layer 1\n",
    "model.add(LSTM(\n",
    "    units=number_units,\n",
    "    return_sequences=True,\n",
    "    input_shape=(X_train.shape[1], 1))\n",
    "    )\n",
    "model.add(Dropout(dropout_fraction))\n",
    "# Layer 2\n",
    "model.add(LSTM(units=number_units, return_sequences=True))\n",
    "model.add(Dropout(dropout_fraction))\n",
    "# Layer 3\n",
    "model.add(LSTM(units=number_units))\n",
    "model.add(Dropout(dropout_fraction))\n",
    "# Output layer\n",
    "model.add(Dense(1))\n"
   ]
  },
  {
   "cell_type": "code",
   "execution_count": 15,
   "id": "3f29c783-3eca-4082-b2ec-9384439bbf07",
   "metadata": {},
   "outputs": [],
   "source": [
    "# Compile the model\n",
    "model.compile(optimizer=\"adam\", loss=\"mean_squared_error\")"
   ]
  },
  {
   "cell_type": "code",
   "execution_count": 16,
   "id": "a8717805-610d-4c70-b516-bccf70130248",
   "metadata": {},
   "outputs": [
    {
     "name": "stdout",
     "output_type": "stream",
     "text": [
      "Model: \"sequential\"\n",
      "_________________________________________________________________\n",
      "Layer (type)                 Output Shape              Param #   \n",
      "=================================================================\n",
      "lstm (LSTM)                  (None, 7, 5)              140       \n",
      "_________________________________________________________________\n",
      "dropout (Dropout)            (None, 7, 5)              0         \n",
      "_________________________________________________________________\n",
      "lstm_1 (LSTM)                (None, 7, 5)              220       \n",
      "_________________________________________________________________\n",
      "dropout_1 (Dropout)          (None, 7, 5)              0         \n",
      "_________________________________________________________________\n",
      "lstm_2 (LSTM)                (None, 5)                 220       \n",
      "_________________________________________________________________\n",
      "dropout_2 (Dropout)          (None, 5)                 0         \n",
      "_________________________________________________________________\n",
      "dense (Dense)                (None, 1)                 6         \n",
      "=================================================================\n",
      "Total params: 586\n",
      "Trainable params: 586\n",
      "Non-trainable params: 0\n",
      "_________________________________________________________________\n"
     ]
    }
   ],
   "source": [
    "# Summarize the model\n",
    "model.summary()"
   ]
  },
  {
   "cell_type": "code",
   "execution_count": 17,
   "id": "5093a2f1-a4a1-447f-a4f5-d9e6e9d0b387",
   "metadata": {},
   "outputs": [
    {
     "name": "stdout",
     "output_type": "stream",
     "text": [
      "Train on 401 samples\n",
      "Epoch 1/10\n"
     ]
    },
    {
     "name": "stderr",
     "output_type": "stream",
     "text": [
      "2022-04-05 10:07:03.294096: W tensorflow/core/grappler/optimizers/implementation_selector.cc:310] Skipping optimization due to error while loading function libraries: Invalid argument: Functions '__inference___backward_standard_lstm_7222_7691_specialized_for_StatefulPartitionedCall_1_at___inference_distributed_function_8311' and '__inference___backward_standard_lstm_7222_7691' both implement 'lstm_121d1f38-8e8b-4f28-af37-2de03adb84e2' but their signatures do not match.\n"
     ]
    },
    {
     "name": "stdout",
     "output_type": "stream",
     "text": [
      "401/401 [==============================] - 8s 21ms/sample - loss: 0.0257\n",
      "Epoch 2/10\n",
      "401/401 [==============================] - 4s 10ms/sample - loss: 0.0328\n",
      "Epoch 3/10\n",
      "401/401 [==============================] - 4s 10ms/sample - loss: 0.0263\n",
      "Epoch 4/10\n",
      "401/401 [==============================] - 4s 9ms/sample - loss: 0.0192\n",
      "Epoch 5/10\n",
      "401/401 [==============================] - 4s 9ms/sample - loss: 0.0156\n",
      "Epoch 6/10\n",
      "401/401 [==============================] - 4s 9ms/sample - loss: 0.0165\n",
      "Epoch 7/10\n",
      "401/401 [==============================] - 4s 9ms/sample - loss: 0.0152\n",
      "Epoch 8/10\n",
      "401/401 [==============================] - 4s 9ms/sample - loss: 0.0141\n",
      "Epoch 9/10\n",
      "401/401 [==============================] - 4s 9ms/sample - loss: 0.0140\n",
      "Epoch 10/10\n",
      "401/401 [==============================] - 4s 9ms/sample - loss: 0.0128\n"
     ]
    },
    {
     "data": {
      "text/plain": [
       "<tensorflow.python.keras.callbacks.History at 0x7fab13f81f10>"
      ]
     },
     "execution_count": 17,
     "metadata": {},
     "output_type": "execute_result"
    }
   ],
   "source": [
    "# Train the model\n",
    "# Use at least 10 epochs\n",
    "# Do not shuffle the data\n",
    "# Experiement with the batch size, but a smaller batch size is recommended\n",
    "model.fit(X_train, y_train, epochs=10, shuffle=False, batch_size=1, verbose=1)"
   ]
  },
  {
   "cell_type": "markdown",
   "id": "23f1f050-959f-499a-b805-2cbe62de62df",
   "metadata": {
    "tags": []
   },
   "source": [
    "## Model Performance\n",
    "\n",
    "In this section, we evaluate the model using the test data. \n",
    "\n",
    "The following tasks were performed:\n",
    "1. Evaluate the model using the `X_test` and `y_test` data.\n",
    "2. Use the X_test data to make predictions\n",
    "3. Create a DataFrame of Real (y_test) vs predicted values. \n",
    "4. Plot the Real vs predicted values as a line chart\n",
    "\n",
    "### Code note\n",
    "In order to 'inverse/revert' the scaling, we applied the `inverse_transform` function to the predicted and y_test values to recover the actual closing prices."
   ]
  },
  {
   "cell_type": "code",
   "execution_count": 18,
   "id": "2dd6f7ac-2b45-4259-ad45-52e4e7526fbd",
   "metadata": {},
   "outputs": [
    {
     "name": "stderr",
     "output_type": "stream",
     "text": [
      "2022-04-05 10:08:10.969286: W tensorflow/core/grappler/optimizers/implementation_selector.cc:310] Skipping optimization due to error while loading function libraries: Invalid argument: Functions '__inference_standard_lstm_17517' and '__inference_standard_lstm_17517_specialized_for_sequential_lstm_2_StatefulPartitionedCall_at___inference_distributed_function_17847' both implement 'lstm_cfac1b53-cc78-43aa-98ab-c4a89102b805' but their signatures do not match.\n"
     ]
    },
    {
     "name": "stdout",
     "output_type": "stream",
     "text": [
      "173/1 [======================================================================================================================================================================================================================================================================================================================================================================================================================================================================================================================================================================================================================================================================================================================================================================================================================================================================================================================================================================================================================================================================================================================================================================================================================================================================================================================================================================================================================================================================================================================================================================================================================================================================================================================================================================================================================================================================================================================================================================================================================================================================================================================================================================================================================================================================================================================================================================================================================================================================================================================================================================================================================================================================================================================================================================================================================================================================================================================================================================================================================================================================================================================================================================================================================================================================================================================================================================================================================================================================================================================================================================================================================================================================================================================================================================================================================================================================================================================================================================================================================================================================================================================================================================================================================================================================================================================================================================================================================================================================================================================================================================================================================================================================================================================================================================================================================================================================================================================================================================================================================================================================================================================================================================================================================================================================================================================================================================================================] - 1s 5ms/sample - loss: 0.0055\n"
     ]
    },
    {
     "data": {
      "text/plain": [
       "0.006283935380162876"
      ]
     },
     "execution_count": 18,
     "metadata": {},
     "output_type": "execute_result"
    }
   ],
   "source": [
    "# Evaluate the model\n",
    "model.evaluate(X_test, y_test)"
   ]
  },
  {
   "cell_type": "code",
   "execution_count": null,
   "id": "e8ea8218-6fc6-4f90-bf46-e4f2c1c54dad",
   "metadata": {},
   "outputs": [],
   "source": [
    "# Predictions\n",
    "predicted = model.predict(X_test)"
   ]
  },
  {
   "cell_type": "code",
   "execution_count": 20,
   "id": "295fd575-6e96-4a6f-b0c9-a62bf4f78579",
   "metadata": {},
   "outputs": [],
   "source": [
    "# Recover the original prices instead of the scaled version\n",
    "predicted_prices = scaler.inverse_transform(predicted)\n",
    "real_prices = scaler.inverse_transform(y_test.reshape(-1, 1))"
   ]
  },
  {
   "cell_type": "code",
   "execution_count": 22,
   "id": "8946915e-5493-4886-8f41-a47d81c6ea3c",
   "metadata": {},
   "outputs": [
    {
     "data": {
      "text/html": [
       "<div>\n",
       "<style scoped>\n",
       "    .dataframe tbody tr th:only-of-type {\n",
       "        vertical-align: middle;\n",
       "    }\n",
       "\n",
       "    .dataframe tbody tr th {\n",
       "        vertical-align: top;\n",
       "    }\n",
       "\n",
       "    .dataframe thead th {\n",
       "        text-align: right;\n",
       "    }\n",
       "</style>\n",
       "<table border=\"1\" class=\"dataframe\">\n",
       "  <thead>\n",
       "    <tr style=\"text-align: right;\">\n",
       "      <th></th>\n",
       "      <th>Real</th>\n",
       "      <th>Predicted</th>\n",
       "    </tr>\n",
       "    <tr>\n",
       "      <th>Date</th>\n",
       "      <th></th>\n",
       "      <th></th>\n",
       "    </tr>\n",
       "  </thead>\n",
       "  <tbody>\n",
       "    <tr>\n",
       "      <th>2022-04-01</th>\n",
       "      <td>0.814564</td>\n",
       "      <td>0.956116</td>\n",
       "    </tr>\n",
       "    <tr>\n",
       "      <th>2022-04-02</th>\n",
       "      <td>0.827740</td>\n",
       "      <td>0.956808</td>\n",
       "    </tr>\n",
       "    <tr>\n",
       "      <th>2022-04-03</th>\n",
       "      <td>0.824919</td>\n",
       "      <td>0.957908</td>\n",
       "    </tr>\n",
       "    <tr>\n",
       "      <th>2022-04-04</th>\n",
       "      <td>0.842950</td>\n",
       "      <td>0.957178</td>\n",
       "    </tr>\n",
       "    <tr>\n",
       "      <th>2022-04-05</th>\n",
       "      <td>0.827251</td>\n",
       "      <td>0.954208</td>\n",
       "    </tr>\n",
       "  </tbody>\n",
       "</table>\n",
       "</div>"
      ],
      "text/plain": [
       "                Real  Predicted\n",
       "Date                           \n",
       "2022-04-01  0.814564   0.956116\n",
       "2022-04-02  0.827740   0.956808\n",
       "2022-04-03  0.824919   0.957908\n",
       "2022-04-04  0.842950   0.957178\n",
       "2022-04-05  0.827251   0.954208"
      ]
     },
     "execution_count": 22,
     "metadata": {},
     "output_type": "execute_result"
    }
   ],
   "source": [
    "# Create a DataFrame of Real and Predicted values\n",
    "crypto = pd.DataFrame({\n",
    "    \"Real\": real_prices.ravel(),\n",
    "    \"Predicted\": predicted_prices.ravel()\n",
    "}, index = data.index[-len(real_prices): ]) \n",
    "crypto.tail()"
   ]
  },
  {
   "cell_type": "code",
   "execution_count": 23,
   "id": "1a7b6eec-cf6b-4a63-8eb4-96ac5dc225d8",
   "metadata": {},
   "outputs": [
    {
     "data": {
      "text/plain": [
       "<AxesSubplot:title={'center':'Closing Prices'}, xlabel='Date'>"
      ]
     },
     "execution_count": 23,
     "metadata": {},
     "output_type": "execute_result"
    },
    {
     "data": {
      "image/png": "[encoded data removed]",
      "text/plain": [
       "<Figure size 432x288 with 1 Axes>"
      ]
     },
     "metadata": {
      "needs_background": "light"
     },
     "output_type": "display_data"
    }
   ],
   "source": [
    "# Plot the real vs predicted values as a line chart\n",
    "crypto.plot(title='Closing Prices')"
   ]
  },
  {
   "cell_type": "code",
   "execution_count": null,
   "id": "0b2a48ca-76d2-4f3f-9ba4-b0757cd8acb0",
   "metadata": {},
   "outputs": [],
   "source": []
  }
 ],
 "metadata": {
  "kernelspec": {
   "display_name": "Python 3 (ipykernel)",
   "language": "python",
   "name": "python3"
  },
  "language_info": {
   "codemirror_mode": {
    "name": "ipython",
    "version": 3
   },
   "file_extension": ".py",
   "mimetype": "text/x-python",
   "name": "python",
   "nbconvert_exporter": "python",
   "pygments_lexer": "ipython3",
   "version": "3.7.11"
  }
 },
 "nbformat": 4,
 "nbformat_minor": 5
}
